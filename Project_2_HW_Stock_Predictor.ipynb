{
 "cells": [
  {
   "cell_type": "code",
   "execution_count": 432,
   "metadata": {},
   "outputs": [],
   "source": [
    "%matplotlib inline\n",
    "import matplotlib.pyplot as plt\n",
    "from matplotlib import style\n",
    "from matplotlib.pyplot import figure\n",
    "import matplotlib as mpl\n",
    "import math\n",
    "import pandas as pd\n",
    "import numpy as np\n",
    "import datetime\n",
    "import pandas_datareader.data as web\n",
    "from pandas import Series, DataFrame\n",
    "# Scikit-Learn imports\n",
    "from sklearn.linear_model import LinearRegression\n",
    "from sklearn.neighbors import KNeighborsRegressor\n",
    "from sklearn.linear_model import Ridge\n",
    "from sklearn.preprocessing import PolynomialFeatures\n",
    "from sklearn.pipeline import make_pipeline\n",
    "from sklearn import preprocessing\n",
    "from sklearn.model_selection import train_test_split"
   ]
  },
  {
   "cell_type": "code",
   "execution_count": 433,
   "metadata": {},
   "outputs": [],
   "source": [
    "# Paramaters\n",
    "ticker = \"VZ\"\n",
    "start = datetime.datetime(2010,1,1)\n",
    "end = datetime.datetime(2019,7,1)"
   ]
  },
  {
   "cell_type": "code",
   "execution_count": 434,
   "metadata": {},
   "outputs": [],
   "source": [
    "# Collect stock prices for a set time period\n",
    "df = web.DataReader(ticker, 'yahoo', start, end)"
   ]
  },
  {
   "cell_type": "code",
   "execution_count": 435,
   "metadata": {},
   "outputs": [
    {
     "data": {
      "text/html": [
       "<div>\n",
       "<style scoped>\n",
       "    .dataframe tbody tr th:only-of-type {\n",
       "        vertical-align: middle;\n",
       "    }\n",
       "\n",
       "    .dataframe tbody tr th {\n",
       "        vertical-align: top;\n",
       "    }\n",
       "\n",
       "    .dataframe thead th {\n",
       "        text-align: right;\n",
       "    }\n",
       "</style>\n",
       "<table border=\"1\" class=\"dataframe\">\n",
       "  <thead>\n",
       "    <tr style=\"text-align: right;\">\n",
       "      <th></th>\n",
       "      <th>Adj Close</th>\n",
       "      <th>Volume</th>\n",
       "      <th>HL_PCT</th>\n",
       "      <th>PCT_change</th>\n",
       "    </tr>\n",
       "    <tr>\n",
       "      <th>Date</th>\n",
       "      <th></th>\n",
       "      <th></th>\n",
       "      <th></th>\n",
       "      <th></th>\n",
       "    </tr>\n",
       "  </thead>\n",
       "  <tbody>\n",
       "    <tr>\n",
       "      <td>2019-06-26</td>\n",
       "      <td>56.396866</td>\n",
       "      <td>15042100.0</td>\n",
       "      <td>2.281107</td>\n",
       "      <td>-2.028531</td>\n",
       "    </tr>\n",
       "    <tr>\n",
       "      <td>2019-06-27</td>\n",
       "      <td>56.654160</td>\n",
       "      <td>9123300.0</td>\n",
       "      <td>0.908298</td>\n",
       "      <td>0.157453</td>\n",
       "    </tr>\n",
       "    <tr>\n",
       "      <td>2019-06-28</td>\n",
       "      <td>56.535412</td>\n",
       "      <td>14604000.0</td>\n",
       "      <td>1.050234</td>\n",
       "      <td>-0.157288</td>\n",
       "    </tr>\n",
       "    <tr>\n",
       "      <td>2019-07-01</td>\n",
       "      <td>56.070301</td>\n",
       "      <td>15830000.0</td>\n",
       "      <td>1.447229</td>\n",
       "      <td>-1.323578</td>\n",
       "    </tr>\n",
       "    <tr>\n",
       "      <td>2019-07-02</td>\n",
       "      <td>57.525002</td>\n",
       "      <td>14985700.0</td>\n",
       "      <td>2.305178</td>\n",
       "      <td>2.197609</td>\n",
       "    </tr>\n",
       "  </tbody>\n",
       "</table>\n",
       "</div>"
      ],
      "text/plain": [
       "            Adj Close      Volume    HL_PCT  PCT_change\n",
       "Date                                                   \n",
       "2019-06-26  56.396866  15042100.0  2.281107   -2.028531\n",
       "2019-06-27  56.654160   9123300.0  0.908298    0.157453\n",
       "2019-06-28  56.535412  14604000.0  1.050234   -0.157288\n",
       "2019-07-01  56.070301  15830000.0  1.447229   -1.323578\n",
       "2019-07-02  57.525002  14985700.0  2.305178    2.197609"
      ]
     },
     "execution_count": 435,
     "metadata": {},
     "output_type": "execute_result"
    }
   ],
   "source": [
    "# Feature engineering\n",
    "dfreg = df.loc[:,['Adj Close', 'Volume']]\n",
    "dfreg['HL_PCT'] = (df['High'] - df['Low']) / df['Close'] * 100.0\n",
    "dfreg['PCT_change'] = (df['Close'] - df['Open'])/ df['Open'] * 100.0\n",
    "dfreg.tail()"
   ]
  },
  {
   "cell_type": "code",
   "execution_count": null,
   "metadata": {},
   "outputs": [],
   "source": []
  },
  {
   "cell_type": "code",
   "execution_count": 436,
   "metadata": {},
   "outputs": [],
   "source": [
    "# Create prediction\n",
    "forecast_out = int(math.ceil(0.01 * len(dfreg)))\n",
    "dfreg['prediction'] = dfreg['Adj Close'].shift(-forecast_out)\n",
    "\n",
    "# Drop missing values\n",
    "dfreg.fillna(value=-99999, inplace=True)\n",
    "\n",
    "# Seperate Independent and dependent\n",
    "X = np.array(dfreg.drop(['prediction'],1))\n",
    "Y = np.array(dfreg['prediction'])"
   ]
  },
  {
   "cell_type": "code",
   "execution_count": 437,
   "metadata": {},
   "outputs": [],
   "source": [
    "# Scale the X so that everyone can have the same distribution\n",
    "scaler = preprocessing.StandardScaler()\n",
    "scaler.fit(X)\n",
    "X = scaler.transform(X)"
   ]
  },
  {
   "cell_type": "code",
   "execution_count": 438,
   "metadata": {},
   "outputs": [
    {
     "name": "stdout",
     "output_type": "stream",
     "text": [
      "         Adj Close        Volume       HL_PCT   PCT_change    prediction\n",
      "count  2390.000000  2.390000e+03  2390.000000  2390.000000   2390.000000\n",
      "mean     37.432765  1.623957e+07     1.456637     0.007131   -966.924998\n",
      "std      10.243525  1.483047e+07     0.752844     0.894682   9976.201810\n",
      "min      16.313293  3.375400e+06     0.352500    -4.938808 -99999.000000\n",
      "25%      29.654418  1.134588e+07     0.992710    -0.517328     29.654418\n",
      "50%      38.771534  1.410850e+07     1.305757     0.022113     38.771534\n",
      "75%      44.396662  1.830448e+07     1.736741     0.530747     44.396662\n",
      "max      59.632504  6.166205e+08    17.456409     3.457561     59.632504\n",
      "2366\n",
      "2366\n"
     ]
    }
   ],
   "source": [
    "# Find Date series of late and early X & Y\n",
    "print(dfreg.describe())\n",
    "X_lately = X[-forecast_out:]\n",
    "X = X[:-forecast_out]\n",
    "print(len(X))\n",
    "\n",
    "y = np.array(dfreg['prediction'])\n",
    "y = y[:-forecast_out]\n",
    "print(len(y))"
   ]
  },
  {
   "cell_type": "code",
   "execution_count": 439,
   "metadata": {},
   "outputs": [],
   "source": [
    "# Split into test and train\n",
    "X_train, X_test, Y_train, Y_test = train_test_split(X, y, test_size=0.2)"
   ]
  },
  {
   "cell_type": "code",
   "execution_count": 440,
   "metadata": {},
   "outputs": [
    {
     "data": {
      "text/plain": [
       "KNeighborsRegressor(algorithm='auto', leaf_size=30, metric='minkowski',\n",
       "                    metric_params=None, n_jobs=None, n_neighbors=5, p=2,\n",
       "                    weights='uniform')"
      ]
     },
     "execution_count": 440,
     "metadata": {},
     "output_type": "execute_result"
    }
   ],
   "source": [
    "# Linear Regression\n",
    "clfreg = LinearRegression(n_jobs=-1)\n",
    "clfreg.fit(X_train, Y_train)\n",
    "\n",
    "# Quadratic Regression 2\n",
    "clfpoly2 = make_pipeline(PolynomialFeatures(2), Ridge())\n",
    "clfpoly2.fit(X_train, Y_train)\n",
    "\n",
    "# Quadratic Regression 3\n",
    "clfpoly3 = make_pipeline(PolynomialFeatures(3), Ridge())\n",
    "clfpoly3.fit(X_train, Y_train)\n",
    "\n",
    "# KNN Regression\n",
    "clfknn = KNeighborsRegressor(n_neighbors=5)\n",
    "clfknn.fit(X_train, Y_train)"
   ]
  },
  {
   "cell_type": "code",
   "execution_count": 441,
   "metadata": {},
   "outputs": [],
   "source": [
    "# Evaluate\n",
    "confidencereg = clfreg.score(X_test, Y_test)\n",
    "confidenceply2 = clfpoly2.score(X_test, Y_test)\n",
    "confidenceply3 = clfpoly3.score(X_test, Y_test)\n",
    "confidenceknn = clfknn.score(X_test, Y_test)\n",
    "\n",
    "regresssions = {\n",
    "    'Linear Regression': clfreg,\n",
    "    'Quadratic Regression 2nd Order': clfpoly2,\n",
    "    'Quadratic Regression 3rd Order': clfpoly3,\n",
    "    'KNN': clfknn\n",
    "}\n",
    "\n",
    "# Find the highest scoring regression\n",
    "best_regression_score = 0\n",
    "best_regression = None\n",
    "best_regression_name = ''\n",
    "\n",
    "for name, regression in regresssions.items():\n",
    "    score = regression.score(X_test, Y_test)\n",
    "    if(score > best_regression_score):\n",
    "        best_regression = regression\n",
    "        best_regression_score = score\n",
    "        best_regression_name = name"
   ]
  },
  {
   "cell_type": "code",
   "execution_count": 442,
   "metadata": {},
   "outputs": [
    {
     "name": "stdout",
     "output_type": "stream",
     "text": [
      "The best regression is Linear Regression\n"
     ]
    }
   ],
   "source": [
    "# Print out the best regression\n",
    "print(\"The best regression is %s\" %(best_regression_name))"
   ]
  },
  {
   "cell_type": "code",
   "execution_count": 443,
   "metadata": {},
   "outputs": [],
   "source": [
    "# Setup figure size\n",
    "plt.rcParams[\"figure.figsize\"] = [16,9]"
   ]
  },
  {
   "cell_type": "code",
   "execution_count": 444,
   "metadata": {},
   "outputs": [
    {
     "data": {
      "image/png": "[encoded data removed]",
      "text/plain": [
       "<Figure size 1152x648 with 1 Axes>"
      ]
     },
     "metadata": {
      "needs_background": "light"
     },
     "output_type": "display_data"
    }
   ],
   "source": [
    "# Create forecast_set\n",
    "forecast_set = best_regression.predict(X_lately)\n",
    "dfreg['Forecast'] = np.nan\n",
    "\n",
    "# Plot best prediction\n",
    "last_date = dfreg.iloc[-1].name\n",
    "last_unix = last_date\n",
    "next_unix = last_unix + datetime.timedelta(days=1)\n",
    "\n",
    "for i in forecast_set:\n",
    "    next_date = next_unix\n",
    "    next_unix += datetime.timedelta(days=1)\n",
    "    dfreg.loc[next_date] = [np.nan for _ in range(len(dfreg.columns)-1)] +[i]\n",
    "    \n",
    "dfreg['Adj Close'].tail(100).plot()\n",
    "dfreg['Forecast'].tail(100).plot()\n",
    "\n",
    "# Adjusting the style of matplotlib\n",
    "plt.style.use('ggplot')\n",
    "plt.legend(loc=4)\n",
    "plt.xlabel('Date')\n",
    "plt.ylabel('Price')\n",
    "\n",
    "plt.show()"
   ]
  }
 ],
 "metadata": {
  "kernelspec": {
   "display_name": "Python 3",
   "language": "python",
   "name": "python3"
  },
  "language_info": {
   "codemirror_mode": {
    "name": "ipython",
    "version": 3
   },
   "file_extension": ".py",
   "mimetype": "text/x-python",
   "name": "python",
   "nbconvert_exporter": "python",
   "pygments_lexer": "ipython3",
   "version": "3.6.9"
  }
 },
 "nbformat": 4,
 "nbformat_minor": 2
}
